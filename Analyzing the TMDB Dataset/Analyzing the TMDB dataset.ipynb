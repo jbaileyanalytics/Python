{
 "cells": [
  {
   "cell_type": "markdown",
   "metadata": {},
   "source": [
    "\n",
    "\n",
    "# Analyzing the TMDb-movies dataset!\n",
    "\n",
    "## Table of Contents\n",
    "<ul><li><a href=\"#intro\">Introduction</a></li>\n",
    "<li><a href=\"#wrangling\">Data Wrangling</a></li>\n",
    "<li><a href=\"#eda\">Exploratory Data Analysis</a></li>\n",
    "<li><a href=\"#conclusions\">Conclusions</a></li></ul>"
   ]
  },
  {
   "cell_type": "markdown",
   "metadata": {},
   "source": [
    "<a id='intro'></a>\n",
    "## Introduction\n",
    "\n",
    "For this project, I have selected the tmdb-movies dataset to investigate. This dataset houses information on over 10,000 movies and was collected by TMDb (The Movie Database). It includes users ratings, budgets, revenues, and other data about the movie.\n",
    "\n",
    "TMDb - https://www.themoviedb.org/\n",
    "\n",
    "With this dataset, I will be analyzing the following:\n",
    "        <ul>\n",
    "        <li>Top 50 movies with the highest revenue?</li>\n",
    "        <li>Top 50 movies with the lowest revenue?</li>\n",
    "        <li>Which years had the highest total overall revenue? </li>\n",
    "        <li>Which years had the lowest total overall revenue? </li>\n",
    "        <li>Movies with a revenue of 500 million or greater and how many by year </li>\n",
    "        <li>Movies with a revenue of 1 billion or greater and how many by year </li>\n",
    "        </ul>\n",
    "        \n",
    "## Let's Get Started!\n",
    "\n",
    "First, we will start below by importing the packages we will be using for this project:  \n",
    "<ul>\n",
    "    <li>pandas - used for data manipulation and analysis</li> \n",
    "    <li>numpy - used for arrays, math functions, etc.</li>   \n",
    "    <li>matplotlib - used to create visualizations</li></ul>\n",
    "\n",
    "I will also use a magic command to render the figures in the current Jupyter notebook:\n",
    "<ul>\n",
    "    <li>%matplotlib inline</li></ul>"
   ]
  },
  {
   "cell_type": "code",
   "execution_count": 73,
   "metadata": {},
   "outputs": [],
   "source": [
    "import pandas as pd\n",
    "import numpy as np\n",
    "import matplotlib.pyplot as plt\n",
    "\n",
    "%matplotlib inline"
   ]
  },
  {
   "cell_type": "markdown",
   "metadata": {},
   "source": [
    "We have imported our python packages, assigned them proper aliases, and included our magic command. \n",
    "\n",
    "Now, let's move on to the data wrangling step in analyzing our dataset."
   ]
  },
  {
   "cell_type": "markdown",
   "metadata": {},
   "source": [
    "<a id='wrangling'></a>\n",
    "## Data Wrangling\n",
    "\n",
    "Here, we will begin the data wrangling process by first loading the data into a Pandas dataframe and begin our observations.\n",
    "\n",
    "### Initial Analysis & Overview of the tmdb-movies dataset"
   ]
  },
  {
   "cell_type": "markdown",
   "metadata": {},
   "source": [
    "Below, we give our pandas dataframe a name of 'movies', and we use the pandas function 'read_csv' to import our csv file into our pandas dataframe. \n",
    "\n",
    "We then use the pandas function head() on our 'movies' dataframe to display the first few rows to begin our analysis."
   ]
  },
  {
   "cell_type": "code",
   "execution_count": 74,
   "metadata": {},
   "outputs": [
    {
     "data": {
      "text/html": [
       "<div>\n",
       "<style scoped>\n",
       "    .dataframe tbody tr th:only-of-type {\n",
       "        vertical-align: middle;\n",
       "    }\n",
       "\n",
       "    .dataframe tbody tr th {\n",
       "        vertical-align: top;\n",
       "    }\n",
       "\n",
       "    .dataframe thead th {\n",
       "        text-align: right;\n",
       "    }\n",
       "</style>\n",
       "<table border=\"1\" class=\"dataframe\">\n",
       "  <thead>\n",
       "    <tr style=\"text-align: right;\">\n",
       "      <th></th>\n",
       "      <th>id</th>\n",
       "      <th>imdb_id</th>\n",
       "      <th>popularity</th>\n",
       "      <th>budget</th>\n",
       "      <th>revenue</th>\n",
       "      <th>original_title</th>\n",
       "      <th>cast</th>\n",
       "      <th>homepage</th>\n",
       "      <th>director</th>\n",
       "      <th>tagline</th>\n",
       "      <th>...</th>\n",
       "      <th>overview</th>\n",
       "      <th>runtime</th>\n",
       "      <th>genres</th>\n",
       "      <th>production_companies</th>\n",
       "      <th>release_date</th>\n",
       "      <th>vote_count</th>\n",
       "      <th>vote_average</th>\n",
       "      <th>release_year</th>\n",
       "      <th>budget_adj</th>\n",
       "      <th>revenue_adj</th>\n",
       "    </tr>\n",
       "  </thead>\n",
       "  <tbody>\n",
       "    <tr>\n",
       "      <th>0</th>\n",
       "      <td>135397</td>\n",
       "      <td>tt0369610</td>\n",
       "      <td>32.985763</td>\n",
       "      <td>150000000</td>\n",
       "      <td>1513528810</td>\n",
       "      <td>Jurassic World</td>\n",
       "      <td>Chris Pratt|Bryce Dallas Howard|Irrfan Khan|Vi...</td>\n",
       "      <td>http://www.jurassicworld.com/</td>\n",
       "      <td>Colin Trevorrow</td>\n",
       "      <td>The park is open.</td>\n",
       "      <td>...</td>\n",
       "      <td>Twenty-two years after the events of Jurassic ...</td>\n",
       "      <td>124</td>\n",
       "      <td>Action|Adventure|Science Fiction|Thriller</td>\n",
       "      <td>Universal Studios|Amblin Entertainment|Legenda...</td>\n",
       "      <td>6/9/15</td>\n",
       "      <td>5562</td>\n",
       "      <td>6.5</td>\n",
       "      <td>2015</td>\n",
       "      <td>1.379999e+08</td>\n",
       "      <td>1.392446e+09</td>\n",
       "    </tr>\n",
       "    <tr>\n",
       "      <th>1</th>\n",
       "      <td>76341</td>\n",
       "      <td>tt1392190</td>\n",
       "      <td>28.419936</td>\n",
       "      <td>150000000</td>\n",
       "      <td>378436354</td>\n",
       "      <td>Mad Max: Fury Road</td>\n",
       "      <td>Tom Hardy|Charlize Theron|Hugh Keays-Byrne|Nic...</td>\n",
       "      <td>http://www.madmaxmovie.com/</td>\n",
       "      <td>George Miller</td>\n",
       "      <td>What a Lovely Day.</td>\n",
       "      <td>...</td>\n",
       "      <td>An apocalyptic story set in the furthest reach...</td>\n",
       "      <td>120</td>\n",
       "      <td>Action|Adventure|Science Fiction|Thriller</td>\n",
       "      <td>Village Roadshow Pictures|Kennedy Miller Produ...</td>\n",
       "      <td>5/13/15</td>\n",
       "      <td>6185</td>\n",
       "      <td>7.1</td>\n",
       "      <td>2015</td>\n",
       "      <td>1.379999e+08</td>\n",
       "      <td>3.481613e+08</td>\n",
       "    </tr>\n",
       "    <tr>\n",
       "      <th>2</th>\n",
       "      <td>262500</td>\n",
       "      <td>tt2908446</td>\n",
       "      <td>13.112507</td>\n",
       "      <td>110000000</td>\n",
       "      <td>295238201</td>\n",
       "      <td>Insurgent</td>\n",
       "      <td>Shailene Woodley|Theo James|Kate Winslet|Ansel...</td>\n",
       "      <td>http://www.thedivergentseries.movie/#insurgent</td>\n",
       "      <td>Robert Schwentke</td>\n",
       "      <td>One Choice Can Destroy You</td>\n",
       "      <td>...</td>\n",
       "      <td>Beatrice Prior must confront her inner demons ...</td>\n",
       "      <td>119</td>\n",
       "      <td>Adventure|Science Fiction|Thriller</td>\n",
       "      <td>Summit Entertainment|Mandeville Films|Red Wago...</td>\n",
       "      <td>3/18/15</td>\n",
       "      <td>2480</td>\n",
       "      <td>6.3</td>\n",
       "      <td>2015</td>\n",
       "      <td>1.012000e+08</td>\n",
       "      <td>2.716190e+08</td>\n",
       "    </tr>\n",
       "    <tr>\n",
       "      <th>3</th>\n",
       "      <td>140607</td>\n",
       "      <td>tt2488496</td>\n",
       "      <td>11.173104</td>\n",
       "      <td>200000000</td>\n",
       "      <td>2068178225</td>\n",
       "      <td>Star Wars: The Force Awakens</td>\n",
       "      <td>Harrison Ford|Mark Hamill|Carrie Fisher|Adam D...</td>\n",
       "      <td>http://www.starwars.com/films/star-wars-episod...</td>\n",
       "      <td>J.J. Abrams</td>\n",
       "      <td>Every generation has a story.</td>\n",
       "      <td>...</td>\n",
       "      <td>Thirty years after defeating the Galactic Empi...</td>\n",
       "      <td>136</td>\n",
       "      <td>Action|Adventure|Science Fiction|Fantasy</td>\n",
       "      <td>Lucasfilm|Truenorth Productions|Bad Robot</td>\n",
       "      <td>12/15/15</td>\n",
       "      <td>5292</td>\n",
       "      <td>7.5</td>\n",
       "      <td>2015</td>\n",
       "      <td>1.839999e+08</td>\n",
       "      <td>1.902723e+09</td>\n",
       "    </tr>\n",
       "    <tr>\n",
       "      <th>4</th>\n",
       "      <td>168259</td>\n",
       "      <td>tt2820852</td>\n",
       "      <td>9.335014</td>\n",
       "      <td>190000000</td>\n",
       "      <td>1506249360</td>\n",
       "      <td>Furious 7</td>\n",
       "      <td>Vin Diesel|Paul Walker|Jason Statham|Michelle ...</td>\n",
       "      <td>http://www.furious7.com/</td>\n",
       "      <td>James Wan</td>\n",
       "      <td>Vengeance Hits Home</td>\n",
       "      <td>...</td>\n",
       "      <td>Deckard Shaw seeks revenge against Dominic Tor...</td>\n",
       "      <td>137</td>\n",
       "      <td>Action|Crime|Thriller</td>\n",
       "      <td>Universal Pictures|Original Film|Media Rights ...</td>\n",
       "      <td>4/1/15</td>\n",
       "      <td>2947</td>\n",
       "      <td>7.3</td>\n",
       "      <td>2015</td>\n",
       "      <td>1.747999e+08</td>\n",
       "      <td>1.385749e+09</td>\n",
       "    </tr>\n",
       "  </tbody>\n",
       "</table>\n",
       "<p>5 rows × 21 columns</p>\n",
       "</div>"
      ],
      "text/plain": [
       "       id    imdb_id  popularity     budget     revenue  \\\n",
       "0  135397  tt0369610   32.985763  150000000  1513528810   \n",
       "1   76341  tt1392190   28.419936  150000000   378436354   \n",
       "2  262500  tt2908446   13.112507  110000000   295238201   \n",
       "3  140607  tt2488496   11.173104  200000000  2068178225   \n",
       "4  168259  tt2820852    9.335014  190000000  1506249360   \n",
       "\n",
       "                 original_title  \\\n",
       "0                Jurassic World   \n",
       "1            Mad Max: Fury Road   \n",
       "2                     Insurgent   \n",
       "3  Star Wars: The Force Awakens   \n",
       "4                     Furious 7   \n",
       "\n",
       "                                                cast  \\\n",
       "0  Chris Pratt|Bryce Dallas Howard|Irrfan Khan|Vi...   \n",
       "1  Tom Hardy|Charlize Theron|Hugh Keays-Byrne|Nic...   \n",
       "2  Shailene Woodley|Theo James|Kate Winslet|Ansel...   \n",
       "3  Harrison Ford|Mark Hamill|Carrie Fisher|Adam D...   \n",
       "4  Vin Diesel|Paul Walker|Jason Statham|Michelle ...   \n",
       "\n",
       "                                            homepage          director  \\\n",
       "0                      http://www.jurassicworld.com/   Colin Trevorrow   \n",
       "1                        http://www.madmaxmovie.com/     George Miller   \n",
       "2     http://www.thedivergentseries.movie/#insurgent  Robert Schwentke   \n",
       "3  http://www.starwars.com/films/star-wars-episod...       J.J. Abrams   \n",
       "4                           http://www.furious7.com/         James Wan   \n",
       "\n",
       "                         tagline  ...  \\\n",
       "0              The park is open.  ...   \n",
       "1             What a Lovely Day.  ...   \n",
       "2     One Choice Can Destroy You  ...   \n",
       "3  Every generation has a story.  ...   \n",
       "4            Vengeance Hits Home  ...   \n",
       "\n",
       "                                            overview runtime  \\\n",
       "0  Twenty-two years after the events of Jurassic ...     124   \n",
       "1  An apocalyptic story set in the furthest reach...     120   \n",
       "2  Beatrice Prior must confront her inner demons ...     119   \n",
       "3  Thirty years after defeating the Galactic Empi...     136   \n",
       "4  Deckard Shaw seeks revenge against Dominic Tor...     137   \n",
       "\n",
       "                                      genres  \\\n",
       "0  Action|Adventure|Science Fiction|Thriller   \n",
       "1  Action|Adventure|Science Fiction|Thriller   \n",
       "2         Adventure|Science Fiction|Thriller   \n",
       "3   Action|Adventure|Science Fiction|Fantasy   \n",
       "4                      Action|Crime|Thriller   \n",
       "\n",
       "                                production_companies release_date vote_count  \\\n",
       "0  Universal Studios|Amblin Entertainment|Legenda...       6/9/15       5562   \n",
       "1  Village Roadshow Pictures|Kennedy Miller Produ...      5/13/15       6185   \n",
       "2  Summit Entertainment|Mandeville Films|Red Wago...      3/18/15       2480   \n",
       "3          Lucasfilm|Truenorth Productions|Bad Robot     12/15/15       5292   \n",
       "4  Universal Pictures|Original Film|Media Rights ...       4/1/15       2947   \n",
       "\n",
       "   vote_average  release_year    budget_adj   revenue_adj  \n",
       "0           6.5          2015  1.379999e+08  1.392446e+09  \n",
       "1           7.1          2015  1.379999e+08  3.481613e+08  \n",
       "2           6.3          2015  1.012000e+08  2.716190e+08  \n",
       "3           7.5          2015  1.839999e+08  1.902723e+09  \n",
       "4           7.3          2015  1.747999e+08  1.385749e+09  \n",
       "\n",
       "[5 rows x 21 columns]"
      ]
     },
     "execution_count": 74,
     "metadata": {},
     "output_type": "execute_result"
    }
   ],
   "source": [
    "movies = pd.read_csv('tmdb-movies.csv') #using read_csv to load our data into a Pandas dataframe\n",
    "movies.head() #using the head() function to display the first few rows of the dataframe"
   ]
  },
  {
   "cell_type": "markdown",
   "metadata": {},
   "source": [
    "We see above that the head() function shows us the first 5 rows and the total amount of columns, which is 21."
   ]
  },
  {
   "cell_type": "markdown",
   "metadata": {},
   "source": [
    "Next, we will use .shape to return a tuple of the dimensions of the dataframe. This will gives us the total number of rows and colums in the dataframe. "
   ]
  },
  {
   "cell_type": "code",
   "execution_count": 75,
   "metadata": {},
   "outputs": [
    {
     "data": {
      "text/plain": [
       "(10866, 21)"
      ]
     },
     "execution_count": 75,
     "metadata": {},
     "output_type": "execute_result"
    }
   ],
   "source": [
    "movies.shape #returns a tuple of the dataframe - number of entries and number of columns in data"
   ]
  },
  {
   "cell_type": "markdown",
   "metadata": {},
   "source": [
    "We can confirm we have 21 columns and 10866 rows in our dataframe. \n",
    "\n",
    "We can also check the data types of our columns with using .dtypes on our movies dataframe."
   ]
  },
  {
   "cell_type": "code",
   "execution_count": 76,
   "metadata": {},
   "outputs": [
    {
     "data": {
      "text/plain": [
       "id                        int64\n",
       "imdb_id                  object\n",
       "popularity              float64\n",
       "budget                    int64\n",
       "revenue                   int64\n",
       "original_title           object\n",
       "cast                     object\n",
       "homepage                 object\n",
       "director                 object\n",
       "tagline                  object\n",
       "keywords                 object\n",
       "overview                 object\n",
       "runtime                   int64\n",
       "genres                   object\n",
       "production_companies     object\n",
       "release_date             object\n",
       "vote_count                int64\n",
       "vote_average            float64\n",
       "release_year              int64\n",
       "budget_adj              float64\n",
       "revenue_adj             float64\n",
       "dtype: object"
      ]
     },
     "execution_count": 76,
     "metadata": {},
     "output_type": "execute_result"
    }
   ],
   "source": [
    "movies.dtypes #checking the data types of the columns"
   ]
  },
  {
   "cell_type": "markdown",
   "metadata": {},
   "source": [
    "One thing to note is the revenue column is already set to the int data type, so we will not have to make any data type conversions there.\n",
    "\n",
    "Next, we will use .info() to explore the columns a little further. We can see again the data types used, column names, and if null values are present."
   ]
  },
  {
   "cell_type": "code",
   "execution_count": 77,
   "metadata": {},
   "outputs": [
    {
     "name": "stdout",
     "output_type": "stream",
     "text": [
      "<class 'pandas.core.frame.DataFrame'>\n",
      "RangeIndex: 10866 entries, 0 to 10865\n",
      "Data columns (total 21 columns):\n",
      " #   Column                Non-Null Count  Dtype  \n",
      "---  ------                --------------  -----  \n",
      " 0   id                    10866 non-null  int64  \n",
      " 1   imdb_id               10856 non-null  object \n",
      " 2   popularity            10866 non-null  float64\n",
      " 3   budget                10866 non-null  int64  \n",
      " 4   revenue               10866 non-null  int64  \n",
      " 5   original_title        10866 non-null  object \n",
      " 6   cast                  10790 non-null  object \n",
      " 7   homepage              2936 non-null   object \n",
      " 8   director              10822 non-null  object \n",
      " 9   tagline               8042 non-null   object \n",
      " 10  keywords              9373 non-null   object \n",
      " 11  overview              10862 non-null  object \n",
      " 12  runtime               10866 non-null  int64  \n",
      " 13  genres                10843 non-null  object \n",
      " 14  production_companies  9836 non-null   object \n",
      " 15  release_date          10866 non-null  object \n",
      " 16  vote_count            10866 non-null  int64  \n",
      " 17  vote_average          10866 non-null  float64\n",
      " 18  release_year          10866 non-null  int64  \n",
      " 19  budget_adj            10866 non-null  float64\n",
      " 20  revenue_adj           10866 non-null  float64\n",
      "dtypes: float64(4), int64(6), object(11)\n",
      "memory usage: 1.7+ MB\n"
     ]
    }
   ],
   "source": [
    "movies.info() #using the info method for an overview summary of the dataframe"
   ]
  },
  {
   "cell_type": "markdown",
   "metadata": {},
   "source": [
    "Looking above, we can confirm that we do have NULL values present in quite a few columns(imdb_id, cast, homepage, director, tagline, keywords, overview, genres, production_companies). We will address the NULL values in the cleaning stages.\n",
    "\n",
    "Next, let's look at how many unique values are present in each column by using .nunique() on our dataframe."
   ]
  },
  {
   "cell_type": "code",
   "execution_count": 78,
   "metadata": {},
   "outputs": [
    {
     "data": {
      "text/plain": [
       "id                      10865\n",
       "imdb_id                 10855\n",
       "popularity              10814\n",
       "budget                    557\n",
       "revenue                  4702\n",
       "original_title          10571\n",
       "cast                    10719\n",
       "homepage                 2896\n",
       "director                 5067\n",
       "tagline                  7997\n",
       "keywords                 8804\n",
       "overview                10847\n",
       "runtime                   247\n",
       "genres                   2039\n",
       "production_companies     7445\n",
       "release_date             5909\n",
       "vote_count               1289\n",
       "vote_average               72\n",
       "release_year               56\n",
       "budget_adj               2614\n",
       "revenue_adj              4840\n",
       "dtype: int64"
      ]
     },
     "execution_count": 78,
     "metadata": {},
     "output_type": "execute_result"
    }
   ],
   "source": [
    "movies.nunique() #number of unique values in each column"
   ]
  },
  {
   "cell_type": "markdown",
   "metadata": {},
   "source": [
    "As the number of unique values in each column are shown above, we can see that there are possible duplicate rows by looking at the number of unique values in the original_title column. We will address the duplicate rows also in the cleaning stages.\n",
    "\n",
    "Now, let's use .describe() to get some general statistics on our dataset which can be useful."
   ]
  },
  {
   "cell_type": "code",
   "execution_count": 79,
   "metadata": {},
   "outputs": [
    {
     "data": {
      "text/html": [
       "<div>\n",
       "<style scoped>\n",
       "    .dataframe tbody tr th:only-of-type {\n",
       "        vertical-align: middle;\n",
       "    }\n",
       "\n",
       "    .dataframe tbody tr th {\n",
       "        vertical-align: top;\n",
       "    }\n",
       "\n",
       "    .dataframe thead th {\n",
       "        text-align: right;\n",
       "    }\n",
       "</style>\n",
       "<table border=\"1\" class=\"dataframe\">\n",
       "  <thead>\n",
       "    <tr style=\"text-align: right;\">\n",
       "      <th></th>\n",
       "      <th>id</th>\n",
       "      <th>popularity</th>\n",
       "      <th>budget</th>\n",
       "      <th>revenue</th>\n",
       "      <th>runtime</th>\n",
       "      <th>vote_count</th>\n",
       "      <th>vote_average</th>\n",
       "      <th>release_year</th>\n",
       "      <th>budget_adj</th>\n",
       "      <th>revenue_adj</th>\n",
       "    </tr>\n",
       "  </thead>\n",
       "  <tbody>\n",
       "    <tr>\n",
       "      <th>count</th>\n",
       "      <td>10866.000000</td>\n",
       "      <td>10866.000000</td>\n",
       "      <td>1.086600e+04</td>\n",
       "      <td>1.086600e+04</td>\n",
       "      <td>10866.000000</td>\n",
       "      <td>10866.000000</td>\n",
       "      <td>10866.000000</td>\n",
       "      <td>10866.000000</td>\n",
       "      <td>1.086600e+04</td>\n",
       "      <td>1.086600e+04</td>\n",
       "    </tr>\n",
       "    <tr>\n",
       "      <th>mean</th>\n",
       "      <td>66064.177434</td>\n",
       "      <td>0.646441</td>\n",
       "      <td>1.462570e+07</td>\n",
       "      <td>3.982332e+07</td>\n",
       "      <td>102.070863</td>\n",
       "      <td>217.389748</td>\n",
       "      <td>5.974922</td>\n",
       "      <td>2001.322658</td>\n",
       "      <td>1.755104e+07</td>\n",
       "      <td>5.136436e+07</td>\n",
       "    </tr>\n",
       "    <tr>\n",
       "      <th>std</th>\n",
       "      <td>92130.136561</td>\n",
       "      <td>1.000185</td>\n",
       "      <td>3.091321e+07</td>\n",
       "      <td>1.170035e+08</td>\n",
       "      <td>31.381405</td>\n",
       "      <td>575.619058</td>\n",
       "      <td>0.935142</td>\n",
       "      <td>12.812941</td>\n",
       "      <td>3.430616e+07</td>\n",
       "      <td>1.446325e+08</td>\n",
       "    </tr>\n",
       "    <tr>\n",
       "      <th>min</th>\n",
       "      <td>5.000000</td>\n",
       "      <td>0.000065</td>\n",
       "      <td>0.000000e+00</td>\n",
       "      <td>0.000000e+00</td>\n",
       "      <td>0.000000</td>\n",
       "      <td>10.000000</td>\n",
       "      <td>1.500000</td>\n",
       "      <td>1960.000000</td>\n",
       "      <td>0.000000e+00</td>\n",
       "      <td>0.000000e+00</td>\n",
       "    </tr>\n",
       "    <tr>\n",
       "      <th>25%</th>\n",
       "      <td>10596.250000</td>\n",
       "      <td>0.207583</td>\n",
       "      <td>0.000000e+00</td>\n",
       "      <td>0.000000e+00</td>\n",
       "      <td>90.000000</td>\n",
       "      <td>17.000000</td>\n",
       "      <td>5.400000</td>\n",
       "      <td>1995.000000</td>\n",
       "      <td>0.000000e+00</td>\n",
       "      <td>0.000000e+00</td>\n",
       "    </tr>\n",
       "    <tr>\n",
       "      <th>50%</th>\n",
       "      <td>20669.000000</td>\n",
       "      <td>0.383856</td>\n",
       "      <td>0.000000e+00</td>\n",
       "      <td>0.000000e+00</td>\n",
       "      <td>99.000000</td>\n",
       "      <td>38.000000</td>\n",
       "      <td>6.000000</td>\n",
       "      <td>2006.000000</td>\n",
       "      <td>0.000000e+00</td>\n",
       "      <td>0.000000e+00</td>\n",
       "    </tr>\n",
       "    <tr>\n",
       "      <th>75%</th>\n",
       "      <td>75610.000000</td>\n",
       "      <td>0.713817</td>\n",
       "      <td>1.500000e+07</td>\n",
       "      <td>2.400000e+07</td>\n",
       "      <td>111.000000</td>\n",
       "      <td>145.750000</td>\n",
       "      <td>6.600000</td>\n",
       "      <td>2011.000000</td>\n",
       "      <td>2.085325e+07</td>\n",
       "      <td>3.369710e+07</td>\n",
       "    </tr>\n",
       "    <tr>\n",
       "      <th>max</th>\n",
       "      <td>417859.000000</td>\n",
       "      <td>32.985763</td>\n",
       "      <td>4.250000e+08</td>\n",
       "      <td>2.781506e+09</td>\n",
       "      <td>900.000000</td>\n",
       "      <td>9767.000000</td>\n",
       "      <td>9.200000</td>\n",
       "      <td>2015.000000</td>\n",
       "      <td>4.250000e+08</td>\n",
       "      <td>2.827124e+09</td>\n",
       "    </tr>\n",
       "  </tbody>\n",
       "</table>\n",
       "</div>"
      ],
      "text/plain": [
       "                  id    popularity        budget       revenue       runtime  \\\n",
       "count   10866.000000  10866.000000  1.086600e+04  1.086600e+04  10866.000000   \n",
       "mean    66064.177434      0.646441  1.462570e+07  3.982332e+07    102.070863   \n",
       "std     92130.136561      1.000185  3.091321e+07  1.170035e+08     31.381405   \n",
       "min         5.000000      0.000065  0.000000e+00  0.000000e+00      0.000000   \n",
       "25%     10596.250000      0.207583  0.000000e+00  0.000000e+00     90.000000   \n",
       "50%     20669.000000      0.383856  0.000000e+00  0.000000e+00     99.000000   \n",
       "75%     75610.000000      0.713817  1.500000e+07  2.400000e+07    111.000000   \n",
       "max    417859.000000     32.985763  4.250000e+08  2.781506e+09    900.000000   \n",
       "\n",
       "         vote_count  vote_average  release_year    budget_adj   revenue_adj  \n",
       "count  10866.000000  10866.000000  10866.000000  1.086600e+04  1.086600e+04  \n",
       "mean     217.389748      5.974922   2001.322658  1.755104e+07  5.136436e+07  \n",
       "std      575.619058      0.935142     12.812941  3.430616e+07  1.446325e+08  \n",
       "min       10.000000      1.500000   1960.000000  0.000000e+00  0.000000e+00  \n",
       "25%       17.000000      5.400000   1995.000000  0.000000e+00  0.000000e+00  \n",
       "50%       38.000000      6.000000   2006.000000  0.000000e+00  0.000000e+00  \n",
       "75%      145.750000      6.600000   2011.000000  2.085325e+07  3.369710e+07  \n",
       "max     9767.000000      9.200000   2015.000000  4.250000e+08  2.827124e+09  "
      ]
     },
     "execution_count": 79,
     "metadata": {},
     "output_type": "execute_result"
    }
   ],
   "source": [
    "movies.describe() #using .describe() for some stats"
   ]
  },
  {
   "cell_type": "markdown",
   "metadata": {},
   "source": [
    "Now that we have taken our initial look at our dataset, let's move on to the cleaning process!"
   ]
  },
  {
   "cell_type": "markdown",
   "metadata": {},
   "source": [
    "## Cleaning the data in the tmdb-movies dataset\n",
    "\n",
    "Next, we will begin cleaning our data before moving on in the analytical process."
   ]
  },
  {
   "cell_type": "markdown",
   "metadata": {},
   "source": [
    "First, we will look at dropping columns that are not needed for our analysis. Our analysis' main focus is on revenue information of the movie titles and thus we will be dropping the following columns:\n",
    "<ul>\n",
    "    <li>id</li>\n",
    "    <li>imdb_id</li>\n",
    "    <li>popularity</li>\n",
    "    <li>homepage</li>\n",
    "    <li>tagline</li>\n",
    "    <li>keywords</li>\n",
    "    <li>overview</li>\n",
    "    <li>vote_count</li>\n",
    "    <li>vote_average</li>\n",
    "    <li>cast</li>\n",
    "    <li>production_companies</li>\n",
    "    <li>budget_adj</li>\n",
    "    <li>revenue_adj</li>\n",
    "    <li>genres</li>\n",
    "    <li>runtime</li>\n",
    "    <li>budget</li></ul>\n",
    "\n",
    "We are removing the budget and revenue adjustment columns as these columns are estimates of 2010 revenue based on inflation over time and we are more concerned with the <u>actual revenue</u> the movie title made."
   ]
  },
  {
   "cell_type": "markdown",
   "metadata": {},
   "source": [
    "We will use .drop() to remove the columns."
   ]
  },
  {
   "cell_type": "code",
   "execution_count": 80,
   "metadata": {},
   "outputs": [],
   "source": [
    "movies.drop(['id','imdb_id','popularity','runtime','homepage','production_companies', \n",
    "                'keywords', 'tagline', 'cast', 'overview', 'vote_count','vote_average',\n",
    "                 'budget_adj', 'revenue_adj', 'genres', 'budget'], axis=1, inplace=True) #dropping columns we don't need"
   ]
  },
  {
   "cell_type": "markdown",
   "metadata": {},
   "source": [
    "We will now confirm the columns were dropped successfully by running .info() again. "
   ]
  },
  {
   "cell_type": "code",
   "execution_count": 81,
   "metadata": {},
   "outputs": [
    {
     "name": "stdout",
     "output_type": "stream",
     "text": [
      "<class 'pandas.core.frame.DataFrame'>\n",
      "RangeIndex: 10866 entries, 0 to 10865\n",
      "Data columns (total 5 columns):\n",
      " #   Column          Non-Null Count  Dtype \n",
      "---  ------          --------------  ----- \n",
      " 0   revenue         10866 non-null  int64 \n",
      " 1   original_title  10866 non-null  object\n",
      " 2   director        10822 non-null  object\n",
      " 3   release_date    10866 non-null  object\n",
      " 4   release_year    10866 non-null  int64 \n",
      "dtypes: int64(2), object(3)\n",
      "memory usage: 424.6+ KB\n"
     ]
    }
   ],
   "source": [
    "movies.info() #confirming the drop"
   ]
  },
  {
   "cell_type": "markdown",
   "metadata": {},
   "source": [
    "As we see above, the columns were dropped successfully. \n",
    "\n",
    "We can now work on filling the NULL values in the remaining columns. We have NULL values in the director column.\n",
    "\n",
    "We can verify this by using .isnull() and running a sum on the columns."
   ]
  },
  {
   "cell_type": "code",
   "execution_count": 82,
   "metadata": {},
   "outputs": [
    {
     "data": {
      "text/plain": [
       "revenue            0\n",
       "original_title     0\n",
       "director          44\n",
       "release_date       0\n",
       "release_year       0\n",
       "dtype: int64"
      ]
     },
     "execution_count": 82,
     "metadata": {},
     "output_type": "execute_result"
    }
   ],
   "source": [
    "movies.isnull().sum()"
   ]
  },
  {
   "cell_type": "markdown",
   "metadata": {},
   "source": [
    "As you can see, the director column has 44 NULL values.\n",
    "\n",
    "We will use .fillna() to fill in the NULL values in that column. The NULL values will be replaced with the string 'Unknown'."
   ]
  },
  {
   "cell_type": "code",
   "execution_count": 83,
   "metadata": {},
   "outputs": [],
   "source": [
    "movies['director'] = movies['director'].fillna('Unknown') #filling null values\n",
    "## movies['director'].fillna('Unknown', inplace=True) ## another way to do it"
   ]
  },
  {
   "cell_type": "markdown",
   "metadata": {},
   "source": [
    "We have replaced the NULL values. Now, we will verify by using .info() again."
   ]
  },
  {
   "cell_type": "code",
   "execution_count": 84,
   "metadata": {},
   "outputs": [
    {
     "name": "stdout",
     "output_type": "stream",
     "text": [
      "<class 'pandas.core.frame.DataFrame'>\n",
      "RangeIndex: 10866 entries, 0 to 10865\n",
      "Data columns (total 5 columns):\n",
      " #   Column          Non-Null Count  Dtype \n",
      "---  ------          --------------  ----- \n",
      " 0   revenue         10866 non-null  int64 \n",
      " 1   original_title  10866 non-null  object\n",
      " 2   director        10866 non-null  object\n",
      " 3   release_date    10866 non-null  object\n",
      " 4   release_year    10866 non-null  int64 \n",
      "dtypes: int64(2), object(3)\n",
      "memory usage: 424.6+ KB\n"
     ]
    }
   ],
   "source": [
    "movies.info() #confirming null values filled"
   ]
  },
  {
   "cell_type": "markdown",
   "metadata": {},
   "source": [
    "All columns now contain 10866 values. Now let's check for duplicate movie titles and remove those.\n",
    "\n",
    "Here, we will use .duplicated() on the 'original_title' column and get a total count of duplicates by using sum."
   ]
  },
  {
   "cell_type": "code",
   "execution_count": 85,
   "metadata": {},
   "outputs": [
    {
     "data": {
      "text/plain": [
       "295"
      ]
     },
     "execution_count": 85,
     "metadata": {},
     "output_type": "execute_result"
    }
   ],
   "source": [
    "sum(movies.duplicated('original_title')) #count duplicate entries"
   ]
  },
  {
   "cell_type": "markdown",
   "metadata": {},
   "source": [
    "Our results returned 295 duplicate entries. We will now remove those duplicates with .drop_duplicates() on the 'original_title' column. We will then use .info() again to verify our drops. "
   ]
  },
  {
   "cell_type": "code",
   "execution_count": 86,
   "metadata": {},
   "outputs": [
    {
     "name": "stdout",
     "output_type": "stream",
     "text": [
      "<class 'pandas.core.frame.DataFrame'>\n",
      "Int64Index: 10571 entries, 0 to 10865\n",
      "Data columns (total 5 columns):\n",
      " #   Column          Non-Null Count  Dtype \n",
      "---  ------          --------------  ----- \n",
      " 0   revenue         10571 non-null  int64 \n",
      " 1   original_title  10571 non-null  object\n",
      " 2   director        10571 non-null  object\n",
      " 3   release_date    10571 non-null  object\n",
      " 4   release_year    10571 non-null  int64 \n",
      "dtypes: int64(2), object(3)\n",
      "memory usage: 495.5+ KB\n"
     ]
    }
   ],
   "source": [
    "movies.drop_duplicates('original_title', inplace=True) #to drop duplicates\n",
    "movies.info() #to verify drop of duplicates"
   ]
  },
  {
   "cell_type": "markdown",
   "metadata": {},
   "source": [
    "One last thing we need to clean is removing the entries where the revenue is equal to 0. We have entries where the movie's revenue is set to 0 because it was not recorded or missing. We also have some movies with very low values that don't seem correct. We will want to exclude these values as well for this analysis.\n",
    "\n",
    "We will modify our 'movies' dataframe to only include the entries where the revenue column is greater than or equal to 1000."
   ]
  },
  {
   "cell_type": "code",
   "execution_count": 87,
   "metadata": {},
   "outputs": [
    {
     "name": "stdout",
     "output_type": "stream",
     "text": [
      "<class 'pandas.core.frame.DataFrame'>\n",
      "Int64Index: 4677 entries, 0 to 10848\n",
      "Data columns (total 5 columns):\n",
      " #   Column          Non-Null Count  Dtype \n",
      "---  ------          --------------  ----- \n",
      " 0   revenue         4677 non-null   int64 \n",
      " 1   original_title  4677 non-null   object\n",
      " 2   director        4677 non-null   object\n",
      " 3   release_date    4677 non-null   object\n",
      " 4   release_year    4677 non-null   int64 \n",
      "dtypes: int64(2), object(3)\n",
      "memory usage: 219.2+ KB\n"
     ]
    }
   ],
   "source": [
    "movies = movies[movies.revenue >= 1000]\n",
    "movies.info()"
   ]
  },
  {
   "cell_type": "markdown",
   "metadata": {},
   "source": [
    "We have ended up with a total of 4677 rows and 5 columns.\n",
    "\n",
    "Now that our data has been cleaned of duplicates, NULL values, missing values, and unneccessary columns, we can begin to query our data and acquire the information we are looking for from the questions above. "
   ]
  },
  {
   "cell_type": "markdown",
   "metadata": {},
   "source": [
    "<a id='eda'></a>\n",
    "## Exploratory Data Analysis\n",
    "        \n",
    "\n",
    "##### 1)Top 50 movies with highest revenue"
   ]
  },
  {
   "cell_type": "markdown",
   "metadata": {},
   "source": [
    "First, we will set the index of the 'movies' dataframe to the original_title column. This will index our dataframe by movie title rather than an index number and help to visualize the reports better."
   ]
  },
  {
   "cell_type": "code",
   "execution_count": 88,
   "metadata": {},
   "outputs": [
    {
     "data": {
      "text/html": [
       "<div>\n",
       "<style scoped>\n",
       "    .dataframe tbody tr th:only-of-type {\n",
       "        vertical-align: middle;\n",
       "    }\n",
       "\n",
       "    .dataframe tbody tr th {\n",
       "        vertical-align: top;\n",
       "    }\n",
       "\n",
       "    .dataframe thead th {\n",
       "        text-align: right;\n",
       "    }\n",
       "</style>\n",
       "<table border=\"1\" class=\"dataframe\">\n",
       "  <thead>\n",
       "    <tr style=\"text-align: right;\">\n",
       "      <th></th>\n",
       "      <th>revenue</th>\n",
       "      <th>director</th>\n",
       "      <th>release_date</th>\n",
       "      <th>release_year</th>\n",
       "    </tr>\n",
       "    <tr>\n",
       "      <th>original_title</th>\n",
       "      <th></th>\n",
       "      <th></th>\n",
       "      <th></th>\n",
       "      <th></th>\n",
       "    </tr>\n",
       "  </thead>\n",
       "  <tbody>\n",
       "    <tr>\n",
       "      <th>Jurassic World</th>\n",
       "      <td>1513528810</td>\n",
       "      <td>Colin Trevorrow</td>\n",
       "      <td>6/9/15</td>\n",
       "      <td>2015</td>\n",
       "    </tr>\n",
       "    <tr>\n",
       "      <th>Mad Max: Fury Road</th>\n",
       "      <td>378436354</td>\n",
       "      <td>George Miller</td>\n",
       "      <td>5/13/15</td>\n",
       "      <td>2015</td>\n",
       "    </tr>\n",
       "    <tr>\n",
       "      <th>Insurgent</th>\n",
       "      <td>295238201</td>\n",
       "      <td>Robert Schwentke</td>\n",
       "      <td>3/18/15</td>\n",
       "      <td>2015</td>\n",
       "    </tr>\n",
       "    <tr>\n",
       "      <th>Star Wars: The Force Awakens</th>\n",
       "      <td>2068178225</td>\n",
       "      <td>J.J. Abrams</td>\n",
       "      <td>12/15/15</td>\n",
       "      <td>2015</td>\n",
       "    </tr>\n",
       "    <tr>\n",
       "      <th>Furious 7</th>\n",
       "      <td>1506249360</td>\n",
       "      <td>James Wan</td>\n",
       "      <td>4/1/15</td>\n",
       "      <td>2015</td>\n",
       "    </tr>\n",
       "    <tr>\n",
       "      <th>The Revenant</th>\n",
       "      <td>532950503</td>\n",
       "      <td>Alejandro GonzÃ¡lez IÃ±Ã¡rritu</td>\n",
       "      <td>12/25/15</td>\n",
       "      <td>2015</td>\n",
       "    </tr>\n",
       "    <tr>\n",
       "      <th>Terminator Genisys</th>\n",
       "      <td>440603537</td>\n",
       "      <td>Alan Taylor</td>\n",
       "      <td>6/23/15</td>\n",
       "      <td>2015</td>\n",
       "    </tr>\n",
       "    <tr>\n",
       "      <th>The Martian</th>\n",
       "      <td>595380321</td>\n",
       "      <td>Ridley Scott</td>\n",
       "      <td>9/30/15</td>\n",
       "      <td>2015</td>\n",
       "    </tr>\n",
       "    <tr>\n",
       "      <th>Minions</th>\n",
       "      <td>1156730962</td>\n",
       "      <td>Kyle Balda|Pierre Coffin</td>\n",
       "      <td>6/17/15</td>\n",
       "      <td>2015</td>\n",
       "    </tr>\n",
       "    <tr>\n",
       "      <th>Inside Out</th>\n",
       "      <td>853708609</td>\n",
       "      <td>Pete Docter</td>\n",
       "      <td>6/9/15</td>\n",
       "      <td>2015</td>\n",
       "    </tr>\n",
       "  </tbody>\n",
       "</table>\n",
       "</div>"
      ],
      "text/plain": [
       "                                 revenue                        director  \\\n",
       "original_title                                                             \n",
       "Jurassic World                1513528810                 Colin Trevorrow   \n",
       "Mad Max: Fury Road             378436354                   George Miller   \n",
       "Insurgent                      295238201                Robert Schwentke   \n",
       "Star Wars: The Force Awakens  2068178225                     J.J. Abrams   \n",
       "Furious 7                     1506249360                       James Wan   \n",
       "The Revenant                   532950503  Alejandro GonzÃ¡lez IÃ±Ã¡rritu   \n",
       "Terminator Genisys             440603537                     Alan Taylor   \n",
       "The Martian                    595380321                    Ridley Scott   \n",
       "Minions                       1156730962        Kyle Balda|Pierre Coffin   \n",
       "Inside Out                     853708609                     Pete Docter   \n",
       "\n",
       "                             release_date  release_year  \n",
       "original_title                                           \n",
       "Jurassic World                     6/9/15          2015  \n",
       "Mad Max: Fury Road                5/13/15          2015  \n",
       "Insurgent                         3/18/15          2015  \n",
       "Star Wars: The Force Awakens     12/15/15          2015  \n",
       "Furious 7                          4/1/15          2015  \n",
       "The Revenant                     12/25/15          2015  \n",
       "Terminator Genisys                6/23/15          2015  \n",
       "The Martian                       9/30/15          2015  \n",
       "Minions                           6/17/15          2015  \n",
       "Inside Out                         6/9/15          2015  "
      ]
     },
     "execution_count": 88,
     "metadata": {},
     "output_type": "execute_result"
    }
   ],
   "source": [
    "movies = movies.set_index('original_title') #setting index to original title so we can order by the movie title\n",
    "movies.head(10) #showing first 10 rows"
   ]
  },
  {
   "cell_type": "markdown",
   "metadata": {},
   "source": [
    "Great, now we have our movie title as the index column.\n",
    "\n",
    "For our first question, we wanted to know the top 50 movies with the highest revenue. \n",
    "\n",
    "Here, we will utilize pandas' .nlargest() function to select the top 50 movies based on the revenue column. We will also store this data into a new dataframe called 'top' which we will be using shortly. "
   ]
  },
  {
   "cell_type": "code",
   "execution_count": 89,
   "metadata": {},
   "outputs": [
    {
     "data": {
      "text/html": [
       "<div>\n",
       "<style scoped>\n",
       "    .dataframe tbody tr th:only-of-type {\n",
       "        vertical-align: middle;\n",
       "    }\n",
       "\n",
       "    .dataframe tbody tr th {\n",
       "        vertical-align: top;\n",
       "    }\n",
       "\n",
       "    .dataframe thead th {\n",
       "        text-align: right;\n",
       "    }\n",
       "</style>\n",
       "<table border=\"1\" class=\"dataframe\">\n",
       "  <thead>\n",
       "    <tr style=\"text-align: right;\">\n",
       "      <th></th>\n",
       "      <th>revenue</th>\n",
       "      <th>director</th>\n",
       "      <th>release_date</th>\n",
       "      <th>release_year</th>\n",
       "    </tr>\n",
       "    <tr>\n",
       "      <th>original_title</th>\n",
       "      <th></th>\n",
       "      <th></th>\n",
       "      <th></th>\n",
       "      <th></th>\n",
       "    </tr>\n",
       "  </thead>\n",
       "  <tbody>\n",
       "    <tr>\n",
       "      <th>Avatar</th>\n",
       "      <td>2781505847</td>\n",
       "      <td>James Cameron</td>\n",
       "      <td>12/10/09</td>\n",
       "      <td>2009</td>\n",
       "    </tr>\n",
       "    <tr>\n",
       "      <th>Star Wars: The Force Awakens</th>\n",
       "      <td>2068178225</td>\n",
       "      <td>J.J. Abrams</td>\n",
       "      <td>12/15/15</td>\n",
       "      <td>2015</td>\n",
       "    </tr>\n",
       "    <tr>\n",
       "      <th>Titanic</th>\n",
       "      <td>1845034188</td>\n",
       "      <td>James Cameron</td>\n",
       "      <td>11/18/97</td>\n",
       "      <td>1997</td>\n",
       "    </tr>\n",
       "    <tr>\n",
       "      <th>The Avengers</th>\n",
       "      <td>1519557910</td>\n",
       "      <td>Joss Whedon</td>\n",
       "      <td>4/25/12</td>\n",
       "      <td>2012</td>\n",
       "    </tr>\n",
       "    <tr>\n",
       "      <th>Jurassic World</th>\n",
       "      <td>1513528810</td>\n",
       "      <td>Colin Trevorrow</td>\n",
       "      <td>6/9/15</td>\n",
       "      <td>2015</td>\n",
       "    </tr>\n",
       "    <tr>\n",
       "      <th>Furious 7</th>\n",
       "      <td>1506249360</td>\n",
       "      <td>James Wan</td>\n",
       "      <td>4/1/15</td>\n",
       "      <td>2015</td>\n",
       "    </tr>\n",
       "    <tr>\n",
       "      <th>Avengers: Age of Ultron</th>\n",
       "      <td>1405035767</td>\n",
       "      <td>Joss Whedon</td>\n",
       "      <td>4/22/15</td>\n",
       "      <td>2015</td>\n",
       "    </tr>\n",
       "    <tr>\n",
       "      <th>Harry Potter and the Deathly Hallows: Part 2</th>\n",
       "      <td>1327817822</td>\n",
       "      <td>David Yates</td>\n",
       "      <td>7/7/11</td>\n",
       "      <td>2011</td>\n",
       "    </tr>\n",
       "    <tr>\n",
       "      <th>Iron Man 3</th>\n",
       "      <td>1215439994</td>\n",
       "      <td>Shane Black</td>\n",
       "      <td>4/18/13</td>\n",
       "      <td>2013</td>\n",
       "    </tr>\n",
       "    <tr>\n",
       "      <th>Minions</th>\n",
       "      <td>1156730962</td>\n",
       "      <td>Kyle Balda|Pierre Coffin</td>\n",
       "      <td>6/17/15</td>\n",
       "      <td>2015</td>\n",
       "    </tr>\n",
       "  </tbody>\n",
       "</table>\n",
       "</div>"
      ],
      "text/plain": [
       "                                                 revenue  \\\n",
       "original_title                                             \n",
       "Avatar                                        2781505847   \n",
       "Star Wars: The Force Awakens                  2068178225   \n",
       "Titanic                                       1845034188   \n",
       "The Avengers                                  1519557910   \n",
       "Jurassic World                                1513528810   \n",
       "Furious 7                                     1506249360   \n",
       "Avengers: Age of Ultron                       1405035767   \n",
       "Harry Potter and the Deathly Hallows: Part 2  1327817822   \n",
       "Iron Man 3                                    1215439994   \n",
       "Minions                                       1156730962   \n",
       "\n",
       "                                                              director  \\\n",
       "original_title                                                           \n",
       "Avatar                                                   James Cameron   \n",
       "Star Wars: The Force Awakens                               J.J. Abrams   \n",
       "Titanic                                                  James Cameron   \n",
       "The Avengers                                               Joss Whedon   \n",
       "Jurassic World                                         Colin Trevorrow   \n",
       "Furious 7                                                    James Wan   \n",
       "Avengers: Age of Ultron                                    Joss Whedon   \n",
       "Harry Potter and the Deathly Hallows: Part 2               David Yates   \n",
       "Iron Man 3                                                 Shane Black   \n",
       "Minions                                       Kyle Balda|Pierre Coffin   \n",
       "\n",
       "                                             release_date  release_year  \n",
       "original_title                                                           \n",
       "Avatar                                           12/10/09          2009  \n",
       "Star Wars: The Force Awakens                     12/15/15          2015  \n",
       "Titanic                                          11/18/97          1997  \n",
       "The Avengers                                      4/25/12          2012  \n",
       "Jurassic World                                     6/9/15          2015  \n",
       "Furious 7                                          4/1/15          2015  \n",
       "Avengers: Age of Ultron                           4/22/15          2015  \n",
       "Harry Potter and the Deathly Hallows: Part 2       7/7/11          2011  \n",
       "Iron Man 3                                        4/18/13          2013  \n",
       "Minions                                           6/17/15          2015  "
      ]
     },
     "execution_count": 89,
     "metadata": {},
     "output_type": "execute_result"
    }
   ],
   "source": [
    "top = movies.nlargest(50, 'revenue') #using nlargest on the revenue column to gather the top 50 and store into 'top'\n",
    "top.head(10) #showing first 10 rows"
   ]
  },
  {
   "cell_type": "markdown",
   "metadata": {},
   "source": [
    "Now, let's take a look at which years our movies in the top 50 occurred. "
   ]
  },
  {
   "cell_type": "code",
   "execution_count": 90,
   "metadata": {},
   "outputs": [
    {
     "data": {
      "text/plain": [
       "2015    7\n",
       "2012    6\n",
       "2009    4\n",
       "2013    4\n",
       "2010    4\n",
       "2007    4\n",
       "2002    3\n",
       "2011    3\n",
       "2001    2\n",
       "2003    2\n",
       "2005    2\n",
       "2014    1\n",
       "1993    1\n",
       "2008    1\n",
       "1995    1\n",
       "2004    1\n",
       "1999    1\n",
       "1997    1\n",
       "1996    1\n",
       "2006    1\n",
       "Name: release_year, dtype: int64"
      ]
     },
     "execution_count": 90,
     "metadata": {},
     "output_type": "execute_result"
    }
   ],
   "source": [
    "top['release_year'].value_counts() #showing a count of movie titles by release year"
   ]
  },
  {
   "cell_type": "markdown",
   "metadata": {},
   "source": [
    "As we can see, 2015 has the most movie titles in our top 50 with a total of 7.\n",
    "\n",
    "Now, we can create some visuals with our top 50 data. To help us save some time with plotting, we are going to create some functions for our visuals. We will define the functions below and call on them later in our analysis."
   ]
  },
  {
   "cell_type": "code",
   "execution_count": 91,
   "metadata": {},
   "outputs": [],
   "source": [
    "#Creating a function for plotting a bar graph with a dataframe and column input\n",
    "def show_bar(df, column):\n",
    "    df[column].value_counts().plot(kind='bar', figsize=(10,7));\n",
    "    plt.xlabel(column);\n",
    "\n",
    "#Creating a function for plotting a pie chart with a dataframe and column input\n",
    "def show_pie(df, column):\n",
    "    df[column].value_counts().plot(kind='pie', figsize=(7,7));\n",
    "    plt.xlabel(column);\n",
    "\n",
    "#Creating a function for plotting a scatter plot with a dataframe and x and y inputs\n",
    "def show_scatter(df, x, y):\n",
    "    df.plot(kind='scatter', x=x, y=y, figsize=(10, 7));\n",
    "    plt.xlabel(x); #using matplotlib to assign a x label\n",
    "    plt.ylabel(y); #using matplotlib to assign a y label\n",
    "\n",
    "#Creating a function for plotting a histogram with a dataframe and column input\n",
    "def show_hist(df, column):\n",
    "    df.hist(column, figsize=(7,7)) #using .hist() on the release_year column in the top dataframe\n",
    "    plt.xlabel(column) #assigning a x label to plot\n",
    "    plt.show() #using .show() to show visual using matplotlib"
   ]
  },
  {
   "cell_type": "markdown",
   "metadata": {},
   "source": [
    "Now, we can go ahead and start putting our functions to use and plot some visuals! "
   ]
  },
  {
   "cell_type": "code",
   "execution_count": 92,
   "metadata": {},
   "outputs": [
    {
     "data": {
      "image/png": "[encoded data removed]",
      "text/plain": [
       "<Figure size 720x504 with 1 Axes>"
      ]
     },
     "metadata": {
      "needs_background": "light"
     },
     "output_type": "display_data"
    }
   ],
   "source": [
    "show_scatter(top, 'release_year', 'revenue') #calling the show_scatter function we created\n",
    "plt.title('Movies - Top 50 in Revenue'); #using matplotlib to assign a title"
   ]
  },
  {
   "cell_type": "markdown",
   "metadata": {},
   "source": [
    "Now, we will use the matplotlib package to create a histogram."
   ]
  },
  {
   "cell_type": "code",
   "execution_count": 93,
   "metadata": {},
   "outputs": [
    {
     "data": {
      "image/png": "[encoded data removed]",
      "text/plain": [
       "<Figure size 504x504 with 1 Axes>"
      ]
     },
     "metadata": {
      "needs_background": "light"
     },
     "output_type": "display_data"
    }
   ],
   "source": [
    "show_hist(top,'release_year') #calling the show_hist function we created"
   ]
  },
  {
   "cell_type": "markdown",
   "metadata": {},
   "source": [
    "We will now provide a bar graph visual using .plot() again on the .value_counts() to show the number of titles per year in the top 50."
   ]
  },
  {
   "cell_type": "code",
   "execution_count": 94,
   "metadata": {},
   "outputs": [
    {
     "data": {
      "image/png": "[encoded data removed]",
      "text/plain": [
       "<Figure size 720x504 with 1 Axes>"
      ]
     },
     "metadata": {
      "needs_background": "light"
     },
     "output_type": "display_data"
    }
   ],
   "source": [
    "show_bar(top, 'release_year')\n",
    "plt.title('Movies - Top 50 in Revenue'); #using matplotlib to assign a title"
   ]
  },
  {
   "cell_type": "markdown",
   "metadata": {},
   "source": [
    "Here is the same data from the above bar graph set in a pie chart using .plot() again on the .value_counts()."
   ]
  },
  {
   "cell_type": "code",
   "execution_count": 95,
   "metadata": {},
   "outputs": [
    {
     "data": {
      "image/png": "[encoded data removed]",
      "text/plain": [
       "<Figure size 504x504 with 1 Axes>"
      ]
     },
     "metadata": {},
     "output_type": "display_data"
    }
   ],
   "source": [
    "show_pie(top, 'release_year')\n",
    "plt.title('Movies - Top 50 in Revenue'); #using matplotlib to assign a title"
   ]
  },
  {
   "cell_type": "markdown",
   "metadata": {},
   "source": [
    "The output provides us a report of the top 50 movies by highest revenue. \n",
    "\n",
    "Now, let's take a look at the 50 movies with the worst revenue in our dataset. \n",
    "\n",
    "##### 2)Top 50 movies with lowest revenue\n",
    "We can achieve this one by utilizing another function from the pandas package. This time we will be using .nsmallest() on the revenue column for the 50 worst movies. We will store this data into a new dataframe called 'low'."
   ]
  },
  {
   "cell_type": "code",
   "execution_count": 96,
   "metadata": {},
   "outputs": [
    {
     "data": {
      "text/html": [
       "<div>\n",
       "<style scoped>\n",
       "    .dataframe tbody tr th:only-of-type {\n",
       "        vertical-align: middle;\n",
       "    }\n",
       "\n",
       "    .dataframe tbody tr th {\n",
       "        vertical-align: top;\n",
       "    }\n",
       "\n",
       "    .dataframe thead th {\n",
       "        text-align: right;\n",
       "    }\n",
       "</style>\n",
       "<table border=\"1\" class=\"dataframe\">\n",
       "  <thead>\n",
       "    <tr style=\"text-align: right;\">\n",
       "      <th></th>\n",
       "      <th>revenue</th>\n",
       "      <th>director</th>\n",
       "      <th>release_date</th>\n",
       "      <th>release_year</th>\n",
       "    </tr>\n",
       "    <tr>\n",
       "      <th>original_title</th>\n",
       "      <th></th>\n",
       "      <th></th>\n",
       "      <th></th>\n",
       "      <th></th>\n",
       "    </tr>\n",
       "  </thead>\n",
       "  <tbody>\n",
       "    <tr>\n",
       "      <th>The Butterfly Room</th>\n",
       "      <td>1081</td>\n",
       "      <td>Jonathan Zarantonello</td>\n",
       "      <td>8/4/12</td>\n",
       "      <td>2012</td>\n",
       "    </tr>\n",
       "    <tr>\n",
       "      <th>An Invisible Sign</th>\n",
       "      <td>1279</td>\n",
       "      <td>Marilyn Agrelo</td>\n",
       "      <td>10/6/10</td>\n",
       "      <td>2010</td>\n",
       "    </tr>\n",
       "    <tr>\n",
       "      <th>Love, Wedding, Marriage</th>\n",
       "      <td>1378</td>\n",
       "      <td>Dermot Mulroney</td>\n",
       "      <td>6/3/11</td>\n",
       "      <td>2011</td>\n",
       "    </tr>\n",
       "    <tr>\n",
       "      <th>Eddie: The Sleepwalking Cannibal</th>\n",
       "      <td>1632</td>\n",
       "      <td>Boris Rodriguez</td>\n",
       "      <td>4/22/12</td>\n",
       "      <td>2012</td>\n",
       "    </tr>\n",
       "    <tr>\n",
       "      <th>Best Man Down</th>\n",
       "      <td>1938</td>\n",
       "      <td>Ted Koland</td>\n",
       "      <td>10/20/12</td>\n",
       "      <td>2012</td>\n",
       "    </tr>\n",
       "    <tr>\n",
       "      <th>The Samaritan</th>\n",
       "      <td>2521</td>\n",
       "      <td>David Weaver</td>\n",
       "      <td>3/2/12</td>\n",
       "      <td>2012</td>\n",
       "    </tr>\n",
       "    <tr>\n",
       "      <th>Julia</th>\n",
       "      <td>2710</td>\n",
       "      <td>Matthew A. Brown</td>\n",
       "      <td>10/14/14</td>\n",
       "      <td>2014</td>\n",
       "    </tr>\n",
       "    <tr>\n",
       "      <th>V/H/S: Viral</th>\n",
       "      <td>2756</td>\n",
       "      <td>Nacho Vigalondo|Marcel Sarmiento|Gregg Bishop|...</td>\n",
       "      <td>10/23/14</td>\n",
       "      <td>2014</td>\n",
       "    </tr>\n",
       "    <tr>\n",
       "      <th>About Cherry</th>\n",
       "      <td>3003</td>\n",
       "      <td>Stephen Elliott</td>\n",
       "      <td>2/14/12</td>\n",
       "      <td>2012</td>\n",
       "    </tr>\n",
       "    <tr>\n",
       "      <th>ATM</th>\n",
       "      <td>3010</td>\n",
       "      <td>David Brooks</td>\n",
       "      <td>2/17/12</td>\n",
       "      <td>2012</td>\n",
       "    </tr>\n",
       "  </tbody>\n",
       "</table>\n",
       "</div>"
      ],
      "text/plain": [
       "                                  revenue  \\\n",
       "original_title                              \n",
       "The Butterfly Room                   1081   \n",
       "An Invisible Sign                    1279   \n",
       "Love, Wedding, Marriage              1378   \n",
       "Eddie: The Sleepwalking Cannibal     1632   \n",
       "Best Man Down                        1938   \n",
       "The Samaritan                        2521   \n",
       "Julia                                2710   \n",
       "V/H/S: Viral                         2756   \n",
       "About Cherry                         3003   \n",
       "ATM                                  3010   \n",
       "\n",
       "                                                                           director  \\\n",
       "original_title                                                                        \n",
       "The Butterfly Room                                            Jonathan Zarantonello   \n",
       "An Invisible Sign                                                    Marilyn Agrelo   \n",
       "Love, Wedding, Marriage                                             Dermot Mulroney   \n",
       "Eddie: The Sleepwalking Cannibal                                    Boris Rodriguez   \n",
       "Best Man Down                                                            Ted Koland   \n",
       "The Samaritan                                                          David Weaver   \n",
       "Julia                                                              Matthew A. Brown   \n",
       "V/H/S: Viral                      Nacho Vigalondo|Marcel Sarmiento|Gregg Bishop|...   \n",
       "About Cherry                                                        Stephen Elliott   \n",
       "ATM                                                                    David Brooks   \n",
       "\n",
       "                                 release_date  release_year  \n",
       "original_title                                               \n",
       "The Butterfly Room                     8/4/12          2012  \n",
       "An Invisible Sign                     10/6/10          2010  \n",
       "Love, Wedding, Marriage                6/3/11          2011  \n",
       "Eddie: The Sleepwalking Cannibal      4/22/12          2012  \n",
       "Best Man Down                        10/20/12          2012  \n",
       "The Samaritan                          3/2/12          2012  \n",
       "Julia                                10/14/14          2014  \n",
       "V/H/S: Viral                         10/23/14          2014  \n",
       "About Cherry                          2/14/12          2012  \n",
       "ATM                                   2/17/12          2012  "
      ]
     },
     "execution_count": 96,
     "metadata": {},
     "output_type": "execute_result"
    }
   ],
   "source": [
    "low = movies.nsmallest(50, 'revenue') #using nsmallest on the revenue column to gather worst 50 and storing into 'low'\n",
    "low.head(10) #showing first 10 rows"
   ]
  },
  {
   "cell_type": "markdown",
   "metadata": {},
   "source": [
    "Now, let's take a look at which years our movies in the worst 50 occurred. "
   ]
  },
  {
   "cell_type": "code",
   "execution_count": 97,
   "metadata": {},
   "outputs": [
    {
     "data": {
      "text/plain": [
       "2013    11\n",
       "2012     9\n",
       "2014     8\n",
       "2010     5\n",
       "2011     5\n",
       "2015     5\n",
       "2007     3\n",
       "2009     2\n",
       "2005     1\n",
       "2006     1\n",
       "Name: release_year, dtype: int64"
      ]
     },
     "execution_count": 97,
     "metadata": {},
     "output_type": "execute_result"
    }
   ],
   "source": [
    "low['release_year'].value_counts() #showing a count of movie titles by release year"
   ]
  },
  {
   "cell_type": "markdown",
   "metadata": {},
   "source": [
    "As we can see, 2013 has the most movie titles in our worst 50 with a total of 11.\n",
    "\n",
    "Now, we can create some visuals with our worst 50 movies data like we did above with our top data. We will plot a scatter plot, bar graph, and pie chart. "
   ]
  },
  {
   "cell_type": "code",
   "execution_count": 98,
   "metadata": {},
   "outputs": [
    {
     "data": {
      "image/png": "[encoded data removed]",
      "text/plain": [
       "<Figure size 720x504 with 1 Axes>"
      ]
     },
     "metadata": {
      "needs_background": "light"
     },
     "output_type": "display_data"
    }
   ],
   "source": [
    "show_scatter(low, 'release_year', 'revenue') #calling the show_scatter function we created\n",
    "plt.title('Movies - Worst 50 in Revenue'); #using matplotlib to assign a title"
   ]
  },
  {
   "cell_type": "markdown",
   "metadata": {},
   "source": [
    "Now, we will again use the matplotlib package to create a histogram."
   ]
  },
  {
   "cell_type": "code",
   "execution_count": 99,
   "metadata": {},
   "outputs": [
    {
     "data": {
      "image/png": "[encoded data removed]",
      "text/plain": [
       "<Figure size 504x504 with 1 Axes>"
      ]
     },
     "metadata": {
      "needs_background": "light"
     },
     "output_type": "display_data"
    }
   ],
   "source": [
    "show_hist(low,'release_year') #calling the show_hist function we created"
   ]
  },
  {
   "cell_type": "markdown",
   "metadata": {},
   "source": [
    "We will now provide a bar graph visual using .plot() again on the .value_counts() to show the number of titles per year in the worst 50."
   ]
  },
  {
   "cell_type": "code",
   "execution_count": 100,
   "metadata": {},
   "outputs": [
    {
     "data": {
      "image/png": "[encoded data removed]",
      "text/plain": [
       "<Figure size 720x504 with 1 Axes>"
      ]
     },
     "metadata": {
      "needs_background": "light"
     },
     "output_type": "display_data"
    }
   ],
   "source": [
    "show_bar(low, 'release_year')\n",
    "plt.title('Movies - Worst 50 in Revenue'); #using matplotlib to assign a title"
   ]
  },
  {
   "cell_type": "markdown",
   "metadata": {},
   "source": [
    "Here is the same data from the above bar graph set in a pie chart using .plot() again on the .value_counts()."
   ]
  },
  {
   "cell_type": "code",
   "execution_count": 101,
   "metadata": {},
   "outputs": [
    {
     "data": {
      "image/png": "[encoded data removed]",
      "text/plain": [
       "<Figure size 504x504 with 1 Axes>"
      ]
     },
     "metadata": {},
     "output_type": "display_data"
    }
   ],
   "source": [
    "show_pie(low, 'release_year')\n",
    "plt.title('Movies - Worst 50 in Revenue'); #using matplotlib to assign a title"
   ]
  },
  {
   "cell_type": "markdown",
   "metadata": {},
   "source": [
    "That answers our question on the worst 50 performing movies from a revenue standpoint.\n",
    "\n",
    "Let's move on to our next question:\n",
    "\n",
    "##### 3) Which years had the highest total overall revenue?\n",
    "\n",
    "For this question, we will go back to using the 'movies' dataframe as we are finished with 'top' and 'low' dataframes. \n",
    "\n",
    "First, we want to get a sum of the revenue values by year. We can do this by using the pandas' group by function and we will also store this into a new dataframe as well. We will then use .sort_values() to show in descending order to show the highest revenue year."
   ]
  },
  {
   "cell_type": "code",
   "execution_count": 116,
   "metadata": {},
   "outputs": [
    {
     "data": {
      "text/html": [
       "<div>\n",
       "<style scoped>\n",
       "    .dataframe tbody tr th:only-of-type {\n",
       "        vertical-align: middle;\n",
       "    }\n",
       "\n",
       "    .dataframe tbody tr th {\n",
       "        vertical-align: top;\n",
       "    }\n",
       "\n",
       "    .dataframe thead th {\n",
       "        text-align: right;\n",
       "    }\n",
       "</style>\n",
       "<table border=\"1\" class=\"dataframe\">\n",
       "  <thead>\n",
       "    <tr style=\"text-align: right;\">\n",
       "      <th></th>\n",
       "      <th>revenue</th>\n",
       "    </tr>\n",
       "    <tr>\n",
       "      <th>release_year</th>\n",
       "      <th></th>\n",
       "    </tr>\n",
       "  </thead>\n",
       "  <tbody>\n",
       "    <tr>\n",
       "      <th>2015</th>\n",
       "      <td>26762450518</td>\n",
       "    </tr>\n",
       "    <tr>\n",
       "      <th>2012</th>\n",
       "      <td>24668427565</td>\n",
       "    </tr>\n",
       "    <tr>\n",
       "      <th>2014</th>\n",
       "      <td>24331150183</td>\n",
       "    </tr>\n",
       "    <tr>\n",
       "      <th>2011</th>\n",
       "      <td>23691794416</td>\n",
       "    </tr>\n",
       "    <tr>\n",
       "      <th>2013</th>\n",
       "      <td>23327871955</td>\n",
       "    </tr>\n",
       "    <tr>\n",
       "      <th>2009</th>\n",
       "      <td>22136851996</td>\n",
       "    </tr>\n",
       "    <tr>\n",
       "      <th>2010</th>\n",
       "      <td>21957562975</td>\n",
       "    </tr>\n",
       "    <tr>\n",
       "      <th>2007</th>\n",
       "      <td>19083900031</td>\n",
       "    </tr>\n",
       "    <tr>\n",
       "      <th>2008</th>\n",
       "      <td>19070423058</td>\n",
       "    </tr>\n",
       "    <tr>\n",
       "      <th>2004</th>\n",
       "      <td>16689910937</td>\n",
       "    </tr>\n",
       "  </tbody>\n",
       "</table>\n",
       "</div>"
      ],
      "text/plain": [
       "                  revenue\n",
       "release_year             \n",
       "2015          26762450518\n",
       "2012          24668427565\n",
       "2014          24331150183\n",
       "2011          23691794416\n",
       "2013          23327871955\n",
       "2009          22136851996\n",
       "2010          21957562975\n",
       "2007          19083900031\n",
       "2008          19070423058\n",
       "2004          16689910937"
      ]
     },
     "execution_count": 116,
     "metadata": {},
     "output_type": "execute_result"
    }
   ],
   "source": [
    "movie1 = movies.groupby('release_year').sum() #grouping by release year, summing the revenue values, and storing into 'movie1'\n",
    "movie1.sort_values(['revenue'], ascending=False).head(10) #calling movie1 and using sort_values() to order by descending"
   ]
  },
  {
   "cell_type": "markdown",
   "metadata": {},
   "source": [
    "As you can see, 2015 shows to be the year with the highest total revenue. This would correlate with our top 50 dataset showing that 2015 had the highest single year total of movies in the top 50 revenue.\n",
    "\n",
    "Now, let's look at the lowest overall. We can use the same 'movie1' dataframe and just sort it now in ascending order.\n",
    "##### 4) Which years had the lowest total overall revenue?"
   ]
  },
  {
   "cell_type": "code",
   "execution_count": 117,
   "metadata": {},
   "outputs": [
    {
     "data": {
      "text/html": [
       "<div>\n",
       "<style scoped>\n",
       "    .dataframe tbody tr th:only-of-type {\n",
       "        vertical-align: middle;\n",
       "    }\n",
       "\n",
       "    .dataframe tbody tr th {\n",
       "        vertical-align: top;\n",
       "    }\n",
       "\n",
       "    .dataframe thead th {\n",
       "        text-align: right;\n",
       "    }\n",
       "</style>\n",
       "<table border=\"1\" class=\"dataframe\">\n",
       "  <thead>\n",
       "    <tr style=\"text-align: right;\">\n",
       "      <th></th>\n",
       "      <th>revenue</th>\n",
       "    </tr>\n",
       "    <tr>\n",
       "      <th>release_year</th>\n",
       "      <th></th>\n",
       "    </tr>\n",
       "  </thead>\n",
       "  <tbody>\n",
       "    <tr>\n",
       "      <th>1960</th>\n",
       "      <td>53005000</td>\n",
       "    </tr>\n",
       "    <tr>\n",
       "      <th>1966</th>\n",
       "      <td>84736689</td>\n",
       "    </tr>\n",
       "    <tr>\n",
       "      <th>1963</th>\n",
       "      <td>176526882</td>\n",
       "    </tr>\n",
       "    <tr>\n",
       "      <th>1968</th>\n",
       "      <td>197942128</td>\n",
       "    </tr>\n",
       "    <tr>\n",
       "      <th>1962</th>\n",
       "      <td>215579846</td>\n",
       "    </tr>\n",
       "    <tr>\n",
       "      <th>1969</th>\n",
       "      <td>229707076</td>\n",
       "    </tr>\n",
       "    <tr>\n",
       "      <th>1961</th>\n",
       "      <td>335720188</td>\n",
       "    </tr>\n",
       "    <tr>\n",
       "      <th>1964</th>\n",
       "      <td>340981782</td>\n",
       "    </tr>\n",
       "    <tr>\n",
       "      <th>1965</th>\n",
       "      <td>346359944</td>\n",
       "    </tr>\n",
       "    <tr>\n",
       "      <th>1972</th>\n",
       "      <td>351335056</td>\n",
       "    </tr>\n",
       "  </tbody>\n",
       "</table>\n",
       "</div>"
      ],
      "text/plain": [
       "                revenue\n",
       "release_year           \n",
       "1960           53005000\n",
       "1966           84736689\n",
       "1963          176526882\n",
       "1968          197942128\n",
       "1962          215579846\n",
       "1969          229707076\n",
       "1961          335720188\n",
       "1964          340981782\n",
       "1965          346359944\n",
       "1972          351335056"
      ]
     },
     "execution_count": 117,
     "metadata": {},
     "output_type": "execute_result"
    }
   ],
   "source": [
    "movie1.sort_values(['revenue'], ascending=True).head(10) #sorting in ascending order - lowest to highest"
   ]
  },
  {
   "cell_type": "markdown",
   "metadata": {},
   "source": [
    "This shows 1960 to be the lowest overall year for total movie revenue. There are a few factors to consider here with this report as 1960 would have been the first year of collection for this dataset and there may be overall less entries from that time period.\n",
    "\n",
    "Now, lets take a look at our next question:\n",
    "##### 5) Movies with a revenue of equal to or greater than 500 million"
   ]
  },
  {
   "cell_type": "code",
   "execution_count": 104,
   "metadata": {},
   "outputs": [
    {
     "data": {
      "text/html": [
       "<div>\n",
       "<style scoped>\n",
       "    .dataframe tbody tr th:only-of-type {\n",
       "        vertical-align: middle;\n",
       "    }\n",
       "\n",
       "    .dataframe tbody tr th {\n",
       "        vertical-align: top;\n",
       "    }\n",
       "\n",
       "    .dataframe thead th {\n",
       "        text-align: right;\n",
       "    }\n",
       "</style>\n",
       "<table border=\"1\" class=\"dataframe\">\n",
       "  <thead>\n",
       "    <tr style=\"text-align: right;\">\n",
       "      <th></th>\n",
       "      <th>revenue</th>\n",
       "      <th>director</th>\n",
       "      <th>release_date</th>\n",
       "      <th>release_year</th>\n",
       "    </tr>\n",
       "    <tr>\n",
       "      <th>original_title</th>\n",
       "      <th></th>\n",
       "      <th></th>\n",
       "      <th></th>\n",
       "      <th></th>\n",
       "    </tr>\n",
       "  </thead>\n",
       "  <tbody>\n",
       "    <tr>\n",
       "      <th>Jurassic World</th>\n",
       "      <td>1513528810</td>\n",
       "      <td>Colin Trevorrow</td>\n",
       "      <td>6/9/15</td>\n",
       "      <td>2015</td>\n",
       "    </tr>\n",
       "    <tr>\n",
       "      <th>Star Wars: The Force Awakens</th>\n",
       "      <td>2068178225</td>\n",
       "      <td>J.J. Abrams</td>\n",
       "      <td>12/15/15</td>\n",
       "      <td>2015</td>\n",
       "    </tr>\n",
       "    <tr>\n",
       "      <th>Furious 7</th>\n",
       "      <td>1506249360</td>\n",
       "      <td>James Wan</td>\n",
       "      <td>4/1/15</td>\n",
       "      <td>2015</td>\n",
       "    </tr>\n",
       "    <tr>\n",
       "      <th>The Revenant</th>\n",
       "      <td>532950503</td>\n",
       "      <td>Alejandro GonzÃ¡lez IÃ±Ã¡rritu</td>\n",
       "      <td>12/25/15</td>\n",
       "      <td>2015</td>\n",
       "    </tr>\n",
       "    <tr>\n",
       "      <th>The Martian</th>\n",
       "      <td>595380321</td>\n",
       "      <td>Ridley Scott</td>\n",
       "      <td>9/30/15</td>\n",
       "      <td>2015</td>\n",
       "    </tr>\n",
       "    <tr>\n",
       "      <th>Minions</th>\n",
       "      <td>1156730962</td>\n",
       "      <td>Kyle Balda|Pierre Coffin</td>\n",
       "      <td>6/17/15</td>\n",
       "      <td>2015</td>\n",
       "    </tr>\n",
       "    <tr>\n",
       "      <th>Inside Out</th>\n",
       "      <td>853708609</td>\n",
       "      <td>Pete Docter</td>\n",
       "      <td>6/9/15</td>\n",
       "      <td>2015</td>\n",
       "    </tr>\n",
       "    <tr>\n",
       "      <th>Spectre</th>\n",
       "      <td>880674609</td>\n",
       "      <td>Sam Mendes</td>\n",
       "      <td>10/26/15</td>\n",
       "      <td>2015</td>\n",
       "    </tr>\n",
       "    <tr>\n",
       "      <th>Avengers: Age of Ultron</th>\n",
       "      <td>1405035767</td>\n",
       "      <td>Joss Whedon</td>\n",
       "      <td>4/22/15</td>\n",
       "      <td>2015</td>\n",
       "    </tr>\n",
       "    <tr>\n",
       "      <th>Ant-Man</th>\n",
       "      <td>518602163</td>\n",
       "      <td>Peyton Reed</td>\n",
       "      <td>7/14/15</td>\n",
       "      <td>2015</td>\n",
       "    </tr>\n",
       "  </tbody>\n",
       "</table>\n",
       "</div>"
      ],
      "text/plain": [
       "                                 revenue                        director  \\\n",
       "original_title                                                             \n",
       "Jurassic World                1513528810                 Colin Trevorrow   \n",
       "Star Wars: The Force Awakens  2068178225                     J.J. Abrams   \n",
       "Furious 7                     1506249360                       James Wan   \n",
       "The Revenant                   532950503  Alejandro GonzÃ¡lez IÃ±Ã¡rritu   \n",
       "The Martian                    595380321                    Ridley Scott   \n",
       "Minions                       1156730962        Kyle Balda|Pierre Coffin   \n",
       "Inside Out                     853708609                     Pete Docter   \n",
       "Spectre                        880674609                      Sam Mendes   \n",
       "Avengers: Age of Ultron       1405035767                     Joss Whedon   \n",
       "Ant-Man                        518602163                     Peyton Reed   \n",
       "\n",
       "                             release_date  release_year  \n",
       "original_title                                           \n",
       "Jurassic World                     6/9/15          2015  \n",
       "Star Wars: The Force Awakens     12/15/15          2015  \n",
       "Furious 7                          4/1/15          2015  \n",
       "The Revenant                     12/25/15          2015  \n",
       "The Martian                       9/30/15          2015  \n",
       "Minions                           6/17/15          2015  \n",
       "Inside Out                         6/9/15          2015  \n",
       "Spectre                          10/26/15          2015  \n",
       "Avengers: Age of Ultron           4/22/15          2015  \n",
       "Ant-Man                           7/14/15          2015  "
      ]
     },
     "execution_count": 104,
     "metadata": {},
     "output_type": "execute_result"
    }
   ],
   "source": [
    "movies_a = movies[movies['revenue'] >= 500000000] #adding dataframe where movies had a revenue greater then 500 million\n",
    "#movies_a = movies.query('revenue >= 500000000') #another way to query the dataframe\n",
    "movies_a.head(10)"
   ]
  },
  {
   "cell_type": "markdown",
   "metadata": {},
   "source": [
    "We have 142 total movies that had a revenue of equal to or greater than 500 million. \n",
    "\n",
    "Now let's see how that breaks down by year."
   ]
  },
  {
   "cell_type": "code",
   "execution_count": 105,
   "metadata": {},
   "outputs": [
    {
     "data": {
      "text/plain": [
       "2015    14\n",
       "2014    14\n",
       "2012    13\n",
       "2013    10\n",
       "2011    10\n",
       "2010     9\n",
       "2008     9\n",
       "2009     8\n",
       "2007     8\n",
       "2004     7\n",
       "2005     6\n",
       "2006     5\n",
       "2002     4\n",
       "2003     4\n",
       "2001     3\n",
       "1999     2\n",
       "1997     2\n",
       "1994     2\n",
       "1980     1\n",
       "2000     1\n",
       "1998     1\n",
       "1996     1\n",
       "1995     1\n",
       "1993     1\n",
       "1992     1\n",
       "1991     1\n",
       "1990     1\n",
       "1983     1\n",
       "1982     1\n",
       "1977     1\n",
       "Name: release_year, dtype: int64"
      ]
     },
     "execution_count": 105,
     "metadata": {},
     "output_type": "execute_result"
    }
   ],
   "source": [
    "movies_a['release_year'].value_counts() #breakdown of number of movie titles by year with a revenue of 500 million or more"
   ]
  },
  {
   "cell_type": "markdown",
   "metadata": {},
   "source": [
    "The years 2015 and 2014 are tied for 14 movies a piece with a revenue of 500 million or more. Again 2015 is at the top of the list which further confirms it being one of the best years revenue wise.\n",
    "\n",
    "Now, we can plot some visuals of this data."
   ]
  },
  {
   "cell_type": "code",
   "execution_count": 106,
   "metadata": {},
   "outputs": [
    {
     "data": {
      "image/png": "[encoded data removed]",
      "text/plain": [
       "<Figure size 720x504 with 1 Axes>"
      ]
     },
     "metadata": {
      "needs_background": "light"
     },
     "output_type": "display_data"
    }
   ],
   "source": [
    "show_bar(movies_a, 'release_year')\n",
    "plt.title('Movies >= 500 Million in Revenue'); #using matplotlib to assign a title"
   ]
  },
  {
   "cell_type": "markdown",
   "metadata": {},
   "source": [
    "Here is the same data from the above bar graph set in a pie chart using .plot() again on the .value_counts()."
   ]
  },
  {
   "cell_type": "code",
   "execution_count": 107,
   "metadata": {},
   "outputs": [
    {
     "data": {
      "image/png": "[encoded data removed]",
      "text/plain": [
       "<Figure size 504x504 with 1 Axes>"
      ]
     },
     "metadata": {},
     "output_type": "display_data"
    }
   ],
   "source": [
    "show_pie(movies_a, 'release_year')\n",
    "plt.title('Movies >= 500 Million in Revenue'); #using matplotlib to assign a title"
   ]
  },
  {
   "cell_type": "markdown",
   "metadata": {},
   "source": [
    "Now, we will again use the matplotlib package to create a histogram."
   ]
  },
  {
   "cell_type": "code",
   "execution_count": 108,
   "metadata": {},
   "outputs": [
    {
     "data": {
      "image/png": "[encoded data removed]",
      "text/plain": [
       "<Figure size 504x504 with 1 Axes>"
      ]
     },
     "metadata": {
      "needs_background": "light"
     },
     "output_type": "display_data"
    }
   ],
   "source": [
    "show_hist(movies_a, 'release_year')"
   ]
  },
  {
   "cell_type": "markdown",
   "metadata": {},
   "source": [
    "Now, let's see if we have any movies that top the 1 billion mark!\n",
    "\n",
    "##### 6) Movies with a revenue of equal to or greater than 1 billion"
   ]
  },
  {
   "cell_type": "code",
   "execution_count": 109,
   "metadata": {
    "scrolled": false
   },
   "outputs": [
    {
     "data": {
      "text/html": [
       "<div>\n",
       "<style scoped>\n",
       "    .dataframe tbody tr th:only-of-type {\n",
       "        vertical-align: middle;\n",
       "    }\n",
       "\n",
       "    .dataframe tbody tr th {\n",
       "        vertical-align: top;\n",
       "    }\n",
       "\n",
       "    .dataframe thead th {\n",
       "        text-align: right;\n",
       "    }\n",
       "</style>\n",
       "<table border=\"1\" class=\"dataframe\">\n",
       "  <thead>\n",
       "    <tr style=\"text-align: right;\">\n",
       "      <th></th>\n",
       "      <th>revenue</th>\n",
       "      <th>director</th>\n",
       "      <th>release_date</th>\n",
       "      <th>release_year</th>\n",
       "    </tr>\n",
       "    <tr>\n",
       "      <th>original_title</th>\n",
       "      <th></th>\n",
       "      <th></th>\n",
       "      <th></th>\n",
       "      <th></th>\n",
       "    </tr>\n",
       "  </thead>\n",
       "  <tbody>\n",
       "    <tr>\n",
       "      <th>Jurassic World</th>\n",
       "      <td>1513528810</td>\n",
       "      <td>Colin Trevorrow</td>\n",
       "      <td>6/9/15</td>\n",
       "      <td>2015</td>\n",
       "    </tr>\n",
       "    <tr>\n",
       "      <th>Star Wars: The Force Awakens</th>\n",
       "      <td>2068178225</td>\n",
       "      <td>J.J. Abrams</td>\n",
       "      <td>12/15/15</td>\n",
       "      <td>2015</td>\n",
       "    </tr>\n",
       "    <tr>\n",
       "      <th>Furious 7</th>\n",
       "      <td>1506249360</td>\n",
       "      <td>James Wan</td>\n",
       "      <td>4/1/15</td>\n",
       "      <td>2015</td>\n",
       "    </tr>\n",
       "    <tr>\n",
       "      <th>Minions</th>\n",
       "      <td>1156730962</td>\n",
       "      <td>Kyle Balda|Pierre Coffin</td>\n",
       "      <td>6/17/15</td>\n",
       "      <td>2015</td>\n",
       "    </tr>\n",
       "    <tr>\n",
       "      <th>Avengers: Age of Ultron</th>\n",
       "      <td>1405035767</td>\n",
       "      <td>Joss Whedon</td>\n",
       "      <td>4/22/15</td>\n",
       "      <td>2015</td>\n",
       "    </tr>\n",
       "    <tr>\n",
       "      <th>Avatar</th>\n",
       "      <td>2781505847</td>\n",
       "      <td>James Cameron</td>\n",
       "      <td>12/10/09</td>\n",
       "      <td>2009</td>\n",
       "    </tr>\n",
       "    <tr>\n",
       "      <th>Alice in Wonderland</th>\n",
       "      <td>1025467110</td>\n",
       "      <td>Tim Burton</td>\n",
       "      <td>3/3/10</td>\n",
       "      <td>2010</td>\n",
       "    </tr>\n",
       "    <tr>\n",
       "      <th>Toy Story 3</th>\n",
       "      <td>1063171911</td>\n",
       "      <td>Lee Unkrich</td>\n",
       "      <td>6/16/10</td>\n",
       "      <td>2010</td>\n",
       "    </tr>\n",
       "    <tr>\n",
       "      <th>The Dark Knight</th>\n",
       "      <td>1001921825</td>\n",
       "      <td>Christopher Nolan</td>\n",
       "      <td>7/16/08</td>\n",
       "      <td>2008</td>\n",
       "    </tr>\n",
       "    <tr>\n",
       "      <th>Harry Potter and the Deathly Hallows: Part 2</th>\n",
       "      <td>1327817822</td>\n",
       "      <td>David Yates</td>\n",
       "      <td>7/7/11</td>\n",
       "      <td>2011</td>\n",
       "    </tr>\n",
       "  </tbody>\n",
       "</table>\n",
       "</div>"
      ],
      "text/plain": [
       "                                                 revenue  \\\n",
       "original_title                                             \n",
       "Jurassic World                                1513528810   \n",
       "Star Wars: The Force Awakens                  2068178225   \n",
       "Furious 7                                     1506249360   \n",
       "Minions                                       1156730962   \n",
       "Avengers: Age of Ultron                       1405035767   \n",
       "Avatar                                        2781505847   \n",
       "Alice in Wonderland                           1025467110   \n",
       "Toy Story 3                                   1063171911   \n",
       "The Dark Knight                               1001921825   \n",
       "Harry Potter and the Deathly Hallows: Part 2  1327817822   \n",
       "\n",
       "                                                              director  \\\n",
       "original_title                                                           \n",
       "Jurassic World                                         Colin Trevorrow   \n",
       "Star Wars: The Force Awakens                               J.J. Abrams   \n",
       "Furious 7                                                    James Wan   \n",
       "Minions                                       Kyle Balda|Pierre Coffin   \n",
       "Avengers: Age of Ultron                                    Joss Whedon   \n",
       "Avatar                                                   James Cameron   \n",
       "Alice in Wonderland                                         Tim Burton   \n",
       "Toy Story 3                                                Lee Unkrich   \n",
       "The Dark Knight                                      Christopher Nolan   \n",
       "Harry Potter and the Deathly Hallows: Part 2               David Yates   \n",
       "\n",
       "                                             release_date  release_year  \n",
       "original_title                                                           \n",
       "Jurassic World                                     6/9/15          2015  \n",
       "Star Wars: The Force Awakens                     12/15/15          2015  \n",
       "Furious 7                                          4/1/15          2015  \n",
       "Minions                                           6/17/15          2015  \n",
       "Avengers: Age of Ultron                           4/22/15          2015  \n",
       "Avatar                                           12/10/09          2009  \n",
       "Alice in Wonderland                                3/3/10          2010  \n",
       "Toy Story 3                                       6/16/10          2010  \n",
       "The Dark Knight                                   7/16/08          2008  \n",
       "Harry Potter and the Deathly Hallows: Part 2       7/7/11          2011  "
      ]
     },
     "execution_count": 109,
     "metadata": {},
     "output_type": "execute_result"
    }
   ],
   "source": [
    "movies_b = movies[movies['revenue'] >= 1000000000] #over 1 billion\n",
    "#movies_b = movies.query('revenue >= 500000000') #another way to query the dataframe\n",
    "movies_b.head(10)"
   ]
  },
  {
   "cell_type": "markdown",
   "metadata": {},
   "source": [
    "Let's see how that breaks down by year."
   ]
  },
  {
   "cell_type": "code",
   "execution_count": 110,
   "metadata": {},
   "outputs": [
    {
     "data": {
      "text/plain": [
       "2015    5\n",
       "2012    4\n",
       "2011    3\n",
       "2010    2\n",
       "1995    1\n",
       "1997    1\n",
       "2003    1\n",
       "2006    1\n",
       "2008    1\n",
       "2009    1\n",
       "2013    1\n",
       "Name: release_year, dtype: int64"
      ]
     },
     "execution_count": 110,
     "metadata": {},
     "output_type": "execute_result"
    }
   ],
   "source": [
    "movies_b['release_year'].value_counts()"
   ]
  },
  {
   "cell_type": "code",
   "execution_count": 111,
   "metadata": {},
   "outputs": [
    {
     "data": {
      "text/plain": [
       "21"
      ]
     },
     "execution_count": 111,
     "metadata": {},
     "output_type": "execute_result"
    }
   ],
   "source": [
    "movies_b.value_counts().sum()"
   ]
  },
  {
   "cell_type": "markdown",
   "metadata": {},
   "source": [
    "There are 21 movies that had a revenue equal to or greater than 1 billion!\n",
    "\n",
    "2015 leads the way again with a total of 5 movies in that year alone to top 1 billion in revenue.\n",
    "\n",
    "Now, let's plot a few visuals for this data."
   ]
  },
  {
   "cell_type": "code",
   "execution_count": 112,
   "metadata": {},
   "outputs": [
    {
     "data": {
      "image/png": "[encoded data removed]",
      "text/plain": [
       "<Figure size 720x504 with 1 Axes>"
      ]
     },
     "metadata": {
      "needs_background": "light"
     },
     "output_type": "display_data"
    }
   ],
   "source": [
    "show_bar(movies_b, 'release_year')\n",
    "plt.title('Movies >= 1 Billion in Revenue'); #using matplotlib to assign a title"
   ]
  },
  {
   "cell_type": "markdown",
   "metadata": {},
   "source": [
    "Here is the same data from the above bar graph set in a pie chart using .plot() again on the .value_counts()."
   ]
  },
  {
   "cell_type": "code",
   "execution_count": 113,
   "metadata": {},
   "outputs": [
    {
     "data": {
      "image/png": "[encoded data removed]",
      "text/plain": [
       "<Figure size 504x504 with 1 Axes>"
      ]
     },
     "metadata": {},
     "output_type": "display_data"
    }
   ],
   "source": [
    "show_pie(movies_b, 'release_year')\n",
    "plt.title('Movies >= 1 Billion in Revenue'); #using matplotlib to assign a title"
   ]
  },
  {
   "cell_type": "markdown",
   "metadata": {},
   "source": [
    "This wraps up our analysis of the TMDb dataset!"
   ]
  },
  {
   "cell_type": "markdown",
   "metadata": {},
   "source": [
    "<a id='conclusions'></a>\n",
    "## Conclusions\n",
    "\n",
    "To sum it up, 2015 was a very good year for movies in terms of revenue.</li>\n",
    "    <ul><li>It had the most amount of movies in the top 50 of revenue</li>\n",
    "    <li>It was tied for the most amount of movies with a revenue over 500 million with a total of 14</li>\n",
    "    <li>It has the most movies with a revenue over 1 billion with a total of 5</li></ul>\n",
    "\n",
    "By analyzing the TMDb dataset, we have been able to identify the top 50 movies in terms of revenue and also some of the worst movies in terms of revenue. We were also able to look at which years contained the highest and worst revenues. While the TMDb dataset offers some valuable information in regards to the movie industry and it was a fun dataset to investigate, I do feel there are some limitations of the dataset. For starters, the collection of data only began in 1960, and we know movies existed prior to that time. We also noticed that movies that were released closer to the beginning of the collection of this dataset are either missing data or have inaccurate data in some of the fields. While I do feel we were able to get a good idea of the top 50 movies overall along with the best years in terms of revenue, the same cannot be said for the worst 50. I feel that with a more expansive and complete dataset on movie revenue, we may be able to better analyze which years were indeed the worst overall in terms of revenue.\n",
    "\n",
    "\n",
    "Provided below is a list of Web sites, books, forums, blog posts, github repositories, etc. that were referred to or used in creating this submission:\n",
    "\n",
    "Udacity - https://learn.udacity.com/\n",
    "\n",
    "Pandas - https://pandas.pydata.org/\n",
    "\n",
    "Matplotlib - https://matplotlib.org/\n",
    "\n",
    "w3schools matplotlib - https://www.w3schools.com/python/matplotlib_pyplot.asp\n",
    "\n",
    "w3schools pandas - https://www.w3schools.com/python/pandas/default.asp\n",
    "\n"
   ]
  },
  {
   "cell_type": "code",
   "execution_count": null,
   "metadata": {},
   "outputs": [],
   "source": []
  }
 ],
 "metadata": {
  "kernelspec": {
   "display_name": "Python 3",
   "language": "python",
   "name": "python3"
  },
  "language_info": {
   "codemirror_mode": {
    "name": "ipython",
    "version": 3
   },
   "file_extension": ".py",
   "mimetype": "text/x-python",
   "name": "python",
   "nbconvert_exporter": "python",
   "pygments_lexer": "ipython3",
   "version": "3.8.8"
  }
 },
 "nbformat": 4,
 "nbformat_minor": 2
}
