{
 "cells": [
  {
   "cell_type": "code",
   "execution_count": 1,
   "id": "b78e5347",
   "metadata": {},
   "outputs": [],
   "source": [
    "import requests\n",
    "import os"
   ]
  },
  {
   "cell_type": "code",
   "execution_count": 2,
   "id": "66eb1d8d",
   "metadata": {},
   "outputs": [
    {
     "data": {
      "text/plain": [
       "<Response [200]>"
      ]
     },
     "execution_count": 2,
     "metadata": {},
     "output_type": "execute_result"
    }
   ],
   "source": [
    "folder_name = 'ebert_reviews'\n",
    "if not os.path.exists(folder_name):\n",
    "    os.makedirs(folder_name)\n",
    "    \n",
    "url = 'https://d17h27t6h515a5.cloudfront.net/topher/2017/September/59ad9904_11-e.t.-the-extra-terrestrial/11-e.t.-the-extra-terrestrial.txt'\n",
    "response = requests.get(url) \n",
    "\n",
    "response #should show 200 if successful"
   ]
  },
  {
   "cell_type": "code",
   "execution_count": 4,
   "id": "57e85369",
   "metadata": {},
   "outputs": [],
   "source": [
    "#split to get everything past the last slash in the url and return the last item in the list. \n",
    "#Mode = wb because response.contents is in bytes not text. then write to file we opened.\n",
    "with open(os.path.join(folder_name, url.split('/')[-1]), mode='wb') as file: \n",
    "    file.write(response.content)"
   ]
  },
  {
   "cell_type": "code",
   "execution_count": 5,
   "id": "630915da",
   "metadata": {},
   "outputs": [
    {
     "data": {
      "text/plain": [
       "['11-e.t.-the-extra-terrestrial.txt']"
      ]
     },
     "execution_count": 5,
     "metadata": {},
     "output_type": "execute_result"
    }
   ],
   "source": [
    "#checking to see if it worked\n",
    "os.listdir(folder_name) "
   ]
  },
  {
   "cell_type": "code",
   "execution_count": null,
   "id": "5da34830",
   "metadata": {},
   "outputs": [],
   "source": []
  }
 ],
 "metadata": {
  "kernelspec": {
   "display_name": "Python 3",
   "language": "python",
   "name": "python3"
  },
  "language_info": {
   "codemirror_mode": {
    "name": "ipython",
    "version": 3
   },
   "file_extension": ".py",
   "mimetype": "text/x-python",
   "name": "python",
   "nbconvert_exporter": "python",
   "pygments_lexer": "ipython3",
   "version": "3.8.8"
  }
 },
 "nbformat": 4,
 "nbformat_minor": 5
}
