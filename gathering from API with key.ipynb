{
 "cells": [
  {
   "cell_type": "code",
   "execution_count": null,
   "id": "1f2e8ecc",
   "metadata": {},
   "outputs": [],
   "source": [
    "##Example of gathering from API - using Rotten Tomatoes\n",
    "import rtsimple as rt\n",
    "rt.API_KEY = 'API KEY HERE'\n",
    "movie = rt.Movies('10489')\n",
    "movie.ratings['audience_score']"
   ]
  }
 ],
 "metadata": {
  "kernelspec": {
   "display_name": "Python 3",
   "language": "python",
   "name": "python3"
  },
  "language_info": {
   "codemirror_mode": {
    "name": "ipython",
    "version": 3
   },
   "file_extension": ".py",
   "mimetype": "text/x-python",
   "name": "python",
   "nbconvert_exporter": "python",
   "pygments_lexer": "ipython3",
   "version": "3.8.8"
  }
 },
 "nbformat": 4,
 "nbformat_minor": 5
}
